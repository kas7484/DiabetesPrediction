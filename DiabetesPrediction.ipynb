{
  "nbformat": 4,
  "nbformat_minor": 0,
  "metadata": {
    "colab": {
      "provenance": [],
      "toc_visible": true
    },
    "kernelspec": {
      "name": "python3",
      "display_name": "Python 3"
    },
    "language_info": {
      "name": "python"
    }
  },
  "cells": [
    {
      "cell_type": "markdown",
      "source": [
        "The purpose of this project is to determine whether certain features can help me determine if I am diabetic. To do this I took a database containing 768 samples of people with particular characteristics and if they were diagnosed with diabetes. The reason I have taken this project is because I have inherited diabetes from both sides of my family. I am very paranoid about genetic conditions and therefore I want to create a model that can help me determine if I am at risk of being diabetic. \n",
        "\n",
        "The process is two steps. The first one is to observe a few features and how they co-relate to diabetes based on hypothesis testing. The second part is to create a model using all the features to determine if they are sufficient to make an accurate prediction on whether someone can be diagnosed with diabetes or not using the training data and features from the table. "
      ],
      "metadata": {
        "id": "BD_8zoq77Iac"
      }
    },
    {
      "cell_type": "code",
      "source": [
        "from datascience import *\n",
        "import numpy as np\n",
        "from sklearn.neural_network import MLPClassifier, MLPRegressor\n",
        "from sklearn.neighbors import KNeighborsClassifier\n",
        "from xgboost import XGBClassifier\n",
        "from sklearn.model_selection import train_test_split\n",
        "\n",
        "import matplotlib\n",
        "matplotlib.use('Agg')\n",
        "%matplotlib inline\n",
        "import matplotlib.pyplot as plots\n",
        "plots.style.use('fivethirtyeight')\n",
        "\n",
        "# blue and red markers by default\n",
        "Table.chart_colors=('blue', 'red')\n",
        "# white background by default\n",
        "plots.rcParams['figure.facecolor']='white'\n",
        "plots.rcParams['axes.facecolor']='white'"
      ],
      "metadata": {
        "id": "AC5mNaDUGlBI"
      },
      "execution_count": 2,
      "outputs": []
    },
    {
      "cell_type": "code",
      "execution_count": 3,
      "metadata": {
        "colab": {
          "base_uri": "https://localhost:8080/",
          "height": 388
        },
        "id": "It5Y0IQ-GJ6B",
        "outputId": "cd2741c0-62f6-434a-ddf9-f2866ec1aa26"
      },
      "outputs": [
        {
          "output_type": "execute_result",
          "data": {
            "text/plain": [
              "Pregnancies | Glucose | BloodPressure | SkinThickness | Insulin | BMI  | DiabetesPedigreeFunction | Age  | Outcome\n",
              "6           | 148     | 72            | 35            | 0       | 33.6 | 0.627                    | 50   | 1\n",
              "1           | 85      | 66            | 29            | 0       | 26.6 | 0.351                    | 31   | 0\n",
              "8           | 183     | 64            | 0             | 0       | 23.3 | 0.672                    | 32   | 1\n",
              "1           | 89      | 66            | 23            | 94      | 28.1 | 0.167                    | 21   | 0\n",
              "0           | 137     | 40            | 35            | 168     | 43.1 | 2.288                    | 33   | 1\n",
              "5           | 116     | 74            | 0             | 0       | 25.6 | 0.201                    | 30   | 0\n",
              "3           | 78      | 50            | 32            | 88      | 31   | 0.248                    | 26   | 1\n",
              "10          | 115     | 0             | 0             | 0       | 35.3 | 0.134                    | 29   | 0\n",
              "2           | 197     | 70            | 45            | 543     | 30.5 | 0.158                    | 53   | 1\n",
              "8           | 125     | 96            | 0             | 0       | 0    | 0.232                    | 54   | 1\n",
              "... (758 rows omitted)"
            ],
            "text/html": [
              "<table border=\"1\" class=\"dataframe\">\n",
              "    <thead>\n",
              "        <tr>\n",
              "            <th>Pregnancies</th> <th>Glucose</th> <th>BloodPressure</th> <th>SkinThickness</th> <th>Insulin</th> <th>BMI</th> <th>DiabetesPedigreeFunction</th> <th>Age</th> <th>Outcome</th>\n",
              "        </tr>\n",
              "    </thead>\n",
              "    <tbody>\n",
              "        <tr>\n",
              "            <td>6          </td> <td>148    </td> <td>72           </td> <td>35           </td> <td>0      </td> <td>33.6</td> <td>0.627                   </td> <td>50  </td> <td>1      </td>\n",
              "        </tr>\n",
              "        <tr>\n",
              "            <td>1          </td> <td>85     </td> <td>66           </td> <td>29           </td> <td>0      </td> <td>26.6</td> <td>0.351                   </td> <td>31  </td> <td>0      </td>\n",
              "        </tr>\n",
              "        <tr>\n",
              "            <td>8          </td> <td>183    </td> <td>64           </td> <td>0            </td> <td>0      </td> <td>23.3</td> <td>0.672                   </td> <td>32  </td> <td>1      </td>\n",
              "        </tr>\n",
              "        <tr>\n",
              "            <td>1          </td> <td>89     </td> <td>66           </td> <td>23           </td> <td>94     </td> <td>28.1</td> <td>0.167                   </td> <td>21  </td> <td>0      </td>\n",
              "        </tr>\n",
              "        <tr>\n",
              "            <td>0          </td> <td>137    </td> <td>40           </td> <td>35           </td> <td>168    </td> <td>43.1</td> <td>2.288                   </td> <td>33  </td> <td>1      </td>\n",
              "        </tr>\n",
              "        <tr>\n",
              "            <td>5          </td> <td>116    </td> <td>74           </td> <td>0            </td> <td>0      </td> <td>25.6</td> <td>0.201                   </td> <td>30  </td> <td>0      </td>\n",
              "        </tr>\n",
              "        <tr>\n",
              "            <td>3          </td> <td>78     </td> <td>50           </td> <td>32           </td> <td>88     </td> <td>31  </td> <td>0.248                   </td> <td>26  </td> <td>1      </td>\n",
              "        </tr>\n",
              "        <tr>\n",
              "            <td>10         </td> <td>115    </td> <td>0            </td> <td>0            </td> <td>0      </td> <td>35.3</td> <td>0.134                   </td> <td>29  </td> <td>0      </td>\n",
              "        </tr>\n",
              "        <tr>\n",
              "            <td>2          </td> <td>197    </td> <td>70           </td> <td>45           </td> <td>543    </td> <td>30.5</td> <td>0.158                   </td> <td>53  </td> <td>1      </td>\n",
              "        </tr>\n",
              "        <tr>\n",
              "            <td>8          </td> <td>125    </td> <td>96           </td> <td>0            </td> <td>0      </td> <td>0   </td> <td>0.232                   </td> <td>54  </td> <td>1      </td>\n",
              "        </tr>\n",
              "    </tbody>\n",
              "</table>\n",
              "<p>... (758 rows omitted)</p>"
            ]
          },
          "metadata": {},
          "execution_count": 3
        }
      ],
      "source": [
        "diabetes = Table().read_table(\"diabetes.csv\")\n",
        "diabetes"
      ]
    },
    {
      "cell_type": "markdown",
      "source": [
        "The test is to determine if whether a higher bmi or lower bmi is more likely to have diabetes\n",
        "\n",
        "We split the data into two halves. The highest recorded bmi is 67.1 and the lowest is 0.0\n",
        "\n",
        "we split it down the middle and make two sets. \n",
        "one where the bmi is either 33.6 or higher and the other where it is 33.5 or lower\n",
        "\n",
        "Null Hypothesis: People with lower bmi and higher BMi will have the same possibility of being diagnoses with diabetes\n",
        "\n",
        "Test statistic: Absolute value of the mean of outcomes for people with low bmi and higher bmi"
      ],
      "metadata": {
        "id": "QVor1xlYdrbL"
      }
    },
    {
      "cell_type": "code",
      "source": [
        "bmi = diabetes.column(\"BMI\")\n",
        "low_bmi = diabetes.where(\"BMI\", are.below(33.6))\n",
        "high_bmi = diabetes.where(\"BMI\",are.above_or_equal_to(33.6))\n",
        "\n",
        "otp_lb = low_bmi.column(\"Outcome\")\n",
        "otp_hb = high_bmi.column(\"Outcome\")\n",
        "print(\"Mean of low BMI patients: \",np.mean(otp_lb))\n",
        "print(\"Mean of high BMI patients: \", np.mean(otp_hb))\n",
        "\n"
      ],
      "metadata": {
        "colab": {
          "base_uri": "https://localhost:8080/"
        },
        "id": "hFrEV0MOdXvh",
        "outputId": "af9da4d1-6298-40da-b157-d4dabe46dcbe"
      },
      "execution_count": 4,
      "outputs": [
        {
          "output_type": "stream",
          "name": "stdout",
          "text": [
            "Mean of low BMI patients:  0.26\n",
            "Mean of high BMI patients:  0.474842767296\n"
          ]
        }
      ]
    },
    {
      "cell_type": "code",
      "source": [
        "observed_value = abs(np.average(otp_lb) - np.average(otp_hb))\n",
        "observed_value"
      ],
      "metadata": {
        "colab": {
          "base_uri": "https://localhost:8080/"
        },
        "id": "6VO3IU7Dgwch",
        "outputId": "6ad8c8f7-55ca-4f57-8e9a-69d7d86094ef"
      },
      "execution_count": 56,
      "outputs": [
        {
          "output_type": "execute_result",
          "data": {
            "text/plain": [
              "0.21484276729559748"
            ]
          },
          "metadata": {},
          "execution_count": 56
        }
      ]
    },
    {
      "cell_type": "code",
      "source": [
        "possible_bmi = np.append(otp_lb,otp_hb)\n",
        "table_bmi = Table().with_columns(\"Iteration\", make_array(), \"Value\",make_array())\n",
        "\n",
        "\n",
        "for i in np.arange(5000):\n",
        "  low = np.random.choice(possible_bmi, len(otp_lb))\n",
        "  high = np.random.choice(possible_bmi, len(otp_hb))\n",
        "  value = abs(np.average(low)-np.average(high))\n",
        "  table_bmi.append((i,value))\n",
        "\n",
        "plots.hist(table_bmi.column(\"Value\"),bins = 20)\n",
        "plots.xlabel(\"Value\")\n",
        "plots.ylabel(\"Percent per unit\")"
      ],
      "metadata": {
        "colab": {
          "base_uri": "https://localhost:8080/",
          "height": 321
        },
        "id": "RA4jBIRPg01l",
        "outputId": "140d3f51-8c8a-494e-a0cd-e3660ad79268"
      },
      "execution_count": 57,
      "outputs": [
        {
          "output_type": "execute_result",
          "data": {
            "text/plain": [
              "Text(0, 0.5, 'Percent per unit')"
            ]
          },
          "metadata": {},
          "execution_count": 57
        },
        {
          "output_type": "display_data",
          "data": {
            "text/plain": [
              "<Figure size 432x288 with 1 Axes>"
            ],
            "image/png": "[encoded data removed]"
          },
          "metadata": {}
        }
      ]
    },
    {
      "cell_type": "code",
      "source": [
        "table_bmi"
      ],
      "metadata": {
        "colab": {
          "base_uri": "https://localhost:8080/",
          "height": 388
        },
        "id": "IYmnUQNahUMl",
        "outputId": "199b5f9c-1a31-4356-feff-87a6ddb272f8"
      },
      "execution_count": 7,
      "outputs": [
        {
          "output_type": "execute_result",
          "data": {
            "text/plain": [
              "Iteration | Value\n",
              "0         | 0.00389937\n",
              "1         | 0.00171908\n",
              "2         | 0.00385744\n",
              "3         | 0.0214675\n",
              "4         | 0.00981132\n",
              "5         | 0.0641929\n",
              "6         | 0.00348008\n",
              "7         | 0.0725786\n",
              "8         | 0.032914\n",
              "9         | 0.0486792\n",
              "... (4990 rows omitted)"
            ],
            "text/html": [
              "<table border=\"1\" class=\"dataframe\">\n",
              "    <thead>\n",
              "        <tr>\n",
              "            <th>Iteration</th> <th>Value</th>\n",
              "        </tr>\n",
              "    </thead>\n",
              "    <tbody>\n",
              "        <tr>\n",
              "            <td>0        </td> <td>0.00389937</td>\n",
              "        </tr>\n",
              "        <tr>\n",
              "            <td>1        </td> <td>0.00171908</td>\n",
              "        </tr>\n",
              "        <tr>\n",
              "            <td>2        </td> <td>0.00385744</td>\n",
              "        </tr>\n",
              "        <tr>\n",
              "            <td>3        </td> <td>0.0214675 </td>\n",
              "        </tr>\n",
              "        <tr>\n",
              "            <td>4        </td> <td>0.00981132</td>\n",
              "        </tr>\n",
              "        <tr>\n",
              "            <td>5        </td> <td>0.0641929 </td>\n",
              "        </tr>\n",
              "        <tr>\n",
              "            <td>6        </td> <td>0.00348008</td>\n",
              "        </tr>\n",
              "        <tr>\n",
              "            <td>7        </td> <td>0.0725786 </td>\n",
              "        </tr>\n",
              "        <tr>\n",
              "            <td>8        </td> <td>0.032914  </td>\n",
              "        </tr>\n",
              "        <tr>\n",
              "            <td>9        </td> <td>0.0486792 </td>\n",
              "        </tr>\n",
              "    </tbody>\n",
              "</table>\n",
              "<p>... (4990 rows omitted)</p>"
            ]
          },
          "metadata": {},
          "execution_count": 7
        }
      ]
    },
    {
      "cell_type": "code",
      "source": [
        "p_value = np.average(table_bmi.column(\"Value\") > observed_value)\n",
        "print(\"p-value of test:\", p_value)"
      ],
      "metadata": {
        "colab": {
          "base_uri": "https://localhost:8080/"
        },
        "id": "BjOVO30WiebI",
        "outputId": "d25a3867-82f6-49b8-974e-85891acebf87"
      },
      "execution_count": 8,
      "outputs": [
        {
          "output_type": "stream",
          "name": "stdout",
          "text": [
            "p-value of test: 0.0\n"
          ]
        }
      ]
    },
    {
      "cell_type": "markdown",
      "source": [
        "We do not accept the Null Hypothesis based on our P-value which suggests that people with higher and lower BMIs are at the same risk of being diabetic. This makes sense as honorhealth.com confirms that having a higher BMI increases the risk of diabetes significantly"
      ],
      "metadata": {
        "id": "-P-_Hg8Gi6W8"
      }
    },
    {
      "cell_type": "markdown",
      "source": [
        "We will take another feature to perform the same test. We will test whether pregancies affect the risk of diabetes. Even though this does not correlate to my reason for doing this project which is to assess my own possibility of having diabetes, with the dataset I have been provided, I can loosely assume my own conclusion considering that all males will be in the category of no pregnancies and if this test goes against the null hypothesis, that would be news that can help me determine my own odds. \n",
        "\n",
        "We will split the data into two halves. Those who have never been pregnant and those who have one or more pregnancies. \n",
        "\n",
        "Null Hypothesis: People with 0 pregnancies and people with 1 or more pregnancies will have the same risk of diabetes.\n",
        "\n",
        "Test statistic: Absolute value of the mean of outcomes for people with 0 pregnancies and 1 or more pregnancies"
      ],
      "metadata": {
        "id": "nZHoNJTt8mNs"
      }
    },
    {
      "cell_type": "markdown",
      "source": [
        "Null Hypothesis: People with lower bmi and higher BMi will have the same possibility of being diagnoses with diabetes\n",
        "\n",
        "Test statistic: Absolute value of the mean of outcomes for people with low bmi and higher bmi"
      ],
      "metadata": {
        "id": "t3tJ8elv8mIH"
      }
    },
    {
      "cell_type": "code",
      "source": [
        "Preg = diabetes.column(\"Pregnancies\")\n",
        "no_preg = diabetes.where(\"Pregnancies\", are.equal_to(0))\n",
        "yes_preg = diabetes.where(\"Pregnancies\",are.above_or_equal_to(1))\n",
        "\n",
        "otp_np = no_preg.column(\"Outcome\")\n",
        "otp_yp = yes_preg.column(\"Outcome\")\n",
        "print(\"Mean of No pregnancy patients: \",np.mean(otp_np))\n",
        "print(\"Mean of Patients who have been pregnant: \", np.mean(otp_yp))"
      ],
      "metadata": {
        "colab": {
          "base_uri": "https://localhost:8080/"
        },
        "id": "QFuBwWr38jUH",
        "outputId": "9aad00d0-1c89-453a-abc6-11fcf7c7ac63"
      },
      "execution_count": 58,
      "outputs": [
        {
          "output_type": "stream",
          "name": "stdout",
          "text": [
            "Mean of No pregnancy patients:  0.342342342342\n",
            "Mean of Patients who have been pregnant:  0.350076103501\n"
          ]
        }
      ]
    },
    {
      "cell_type": "code",
      "source": [
        "observed_value = abs(np.average(otp_np) - np.average(otp_yp))\n",
        "observed_value"
      ],
      "metadata": {
        "colab": {
          "base_uri": "https://localhost:8080/"
        },
        "id": "4cl1YRK7-UuB",
        "outputId": "279c4f0f-1919-442f-d315-8dd8eb199a47"
      },
      "execution_count": 59,
      "outputs": [
        {
          "output_type": "execute_result",
          "data": {
            "text/plain": [
              "0.0077337611584186727"
            ]
          },
          "metadata": {},
          "execution_count": 59
        }
      ]
    },
    {
      "cell_type": "code",
      "source": [
        "possible_preg = np.append(otp_np,otp_yp)\n",
        "table_preg = Table().with_columns(\"Iteration\", make_array(), \"Value\",make_array())\n",
        "\n",
        "\n",
        "for i in np.arange(100):\n",
        "  no = np.random.choice(possible_preg, len(otp_np))\n",
        "  yes = np.random.choice(possible_preg, len(otp_yp))\n",
        "  value = abs(np.average(no)-np.average(yes))\n",
        "  table_preg.append((i,value))\n",
        "\n",
        "plots.hist(table_bmi.column(\"Value\"),bins = 20)\n",
        "plots.xlabel(\"Value\")\n",
        "plots.ylabel(\"Percent per unit\")"
      ],
      "metadata": {
        "colab": {
          "base_uri": "https://localhost:8080/",
          "height": 321
        },
        "id": "HZ5pwi7y-Z9A",
        "outputId": "ad7c67f4-05bb-4b6b-9fb6-c08488dfbb5b"
      },
      "execution_count": 62,
      "outputs": [
        {
          "output_type": "execute_result",
          "data": {
            "text/plain": [
              "Text(0, 0.5, 'Percent per unit')"
            ]
          },
          "metadata": {},
          "execution_count": 62
        },
        {
          "output_type": "display_data",
          "data": {
            "text/plain": [
              "<Figure size 432x288 with 1 Axes>"
            ],
            "image/png": "[encoded data removed]"
          },
          "metadata": {}
        }
      ]
    },
    {
      "cell_type": "code",
      "source": [
        "p_value = np.average(table_preg.column(\"Value\") > observed_value)\n",
        "print(\"p-value of test:\", p_value)"
      ],
      "metadata": {
        "colab": {
          "base_uri": "https://localhost:8080/"
        },
        "id": "D873dVJNAAYW",
        "outputId": "f521754f-e4bf-4390-ba9e-3eb61ca375fe"
      },
      "execution_count": 63,
      "outputs": [
        {
          "output_type": "stream",
          "name": "stdout",
          "text": [
            "p-value of test: 0.92\n"
          ]
        }
      ]
    },
    {
      "cell_type": "markdown",
      "source": [
        "In this case the p value is significantly higher at 92% which shows that we have failed to reject the null hypothesis which was that pregnancies do not affect diabetes. Based on our result we will accept this as true and moving forward we will not use pregnancies in our ML model. "
      ],
      "metadata": {
        "id": "Qlq-MeDyAGV0"
      }
    },
    {
      "cell_type": "markdown",
      "source": [
        "Step 2 of this project is to use an ML model to determine the likelihood of diabetes using all the other factors\n",
        "\n",
        "since our features have different ranges we will have to normalise all the features so that our labels come out more accurately"
      ],
      "metadata": {
        "id": "m-hNO1xi1UB0"
      }
    },
    {
      "cell_type": "code",
      "source": [
        "\n",
        "Glucose = diabetes.column(\"Glucose\")\n",
        "BloodPressure = diabetes.column(\"BloodPressure\")\n",
        "SkinThickness = diabetes.column(\"SkinThickness\")\n",
        "Insulin = diabetes.column(\"Insulin\")\n",
        "BMI = diabetes.column(\"BMI\")\n",
        "PD = diabetes.column(\"DiabetesPedigreeFunction\")\n",
        "Age = diabetes.column(\"Age\")\n",
        "\n",
        "\n",
        "Glucose_std = (Glucose-np.mean(Glucose))/np.std(Glucose)\n",
        "BloodPressure_std = (BloodPressure-np.mean(BloodPressure))/np.std(BloodPressure)\n",
        "SkinThickness_std = (SkinThickness-np.mean(SkinThickness))/np.std(SkinThickness)\n",
        "Insulin_std = (Insulin-np.mean(Insulin))/np.std(Insulin)\n",
        "BMI_std = (BMI-np.mean(BMI))/np.std(BMI)\n",
        "Age_std = (Age-np.mean(Age))/np.std(Age)\n",
        "PD_std = (PD - np.mean(PD))/np.std(PD)\n",
        "\n",
        "std_table = Table().with_columns(\n",
        "                                 \"Glucose_std\",Glucose_std,\n",
        "                                 \"BloodPressure_std\",BloodPressure_std,\n",
        "                                 \"SkinThickness_std\",SkinThickness_std,\n",
        "                                 \"Insulin_std\", Insulin_std,\n",
        "                                 \"BMI_std\",BMI_std,\n",
        "                                 \"Age_std\",Age_std,\n",
        "                                 \"PD_std\",PD_std)\n",
        "std_table"
      ],
      "metadata": {
        "colab": {
          "base_uri": "https://localhost:8080/",
          "height": 388
        },
        "id": "urVk2KGRjbt4",
        "outputId": "f6d59fe2-29aa-410f-e7a3-b81092faa91e"
      },
      "execution_count": 64,
      "outputs": [
        {
          "output_type": "execute_result",
          "data": {
            "text/plain": [
              "Glucose_std | BloodPressure_std | SkinThickness_std | Insulin_std | BMI_std   | Age_std    | PD_std\n",
              "0.848324    | 0.149641          | 0.90727           | -0.692891   | 0.204013  | 1.426      | 0.468492\n",
              "-1.1234     | -0.160546         | 0.530902          | -0.692891   | -0.684422 | -0.190672  | -0.365061\n",
              "1.94372     | -0.263941         | -1.28821          | -0.692891   | -1.10326  | -0.105584  | 0.604397\n",
              "-0.998208   | -0.160546         | 0.154533          | 0.123302    | -0.494043 | -1.04155   | -0.920763\n",
              "0.504055    | -1.50469          | 0.90727           | 0.765836    | 1.40975   | -0.0204964 | 5.48491\n",
              "-0.153185   | 0.253036          | -1.28821          | -0.692891   | -0.811341 | -0.27576   | -0.818079\n",
              "-1.34248    | -0.98771          | 0.719086          | 0.0712043   | -0.125977 | -0.616111  | -0.676133\n",
              "-0.184482   | -3.5726           | -1.28821          | -0.692891   | 0.419775  | -0.360847  | -1.02043\n",
              "2.38188     | 0.0462453         | 1.53455           | 4.02192     | -0.189437 | 1.68126    | -0.947944\n",
              "0.128489    | 1.39039           | -1.28821          | -0.692891   | -4.06047  | 1.76635    | -0.724455\n",
              "... (758 rows omitted)"
            ],
            "text/html": [
              "<table border=\"1\" class=\"dataframe\">\n",
              "    <thead>\n",
              "        <tr>\n",
              "            <th>Glucose_std</th> <th>BloodPressure_std</th> <th>SkinThickness_std</th> <th>Insulin_std</th> <th>BMI_std</th> <th>Age_std</th> <th>PD_std</th>\n",
              "        </tr>\n",
              "    </thead>\n",
              "    <tbody>\n",
              "        <tr>\n",
              "            <td>0.848324   </td> <td>0.149641         </td> <td>0.90727          </td> <td>-0.692891  </td> <td>0.204013 </td> <td>1.426     </td> <td>0.468492 </td>\n",
              "        </tr>\n",
              "        <tr>\n",
              "            <td>-1.1234    </td> <td>-0.160546        </td> <td>0.530902         </td> <td>-0.692891  </td> <td>-0.684422</td> <td>-0.190672 </td> <td>-0.365061</td>\n",
              "        </tr>\n",
              "        <tr>\n",
              "            <td>1.94372    </td> <td>-0.263941        </td> <td>-1.28821         </td> <td>-0.692891  </td> <td>-1.10326 </td> <td>-0.105584 </td> <td>0.604397 </td>\n",
              "        </tr>\n",
              "        <tr>\n",
              "            <td>-0.998208  </td> <td>-0.160546        </td> <td>0.154533         </td> <td>0.123302   </td> <td>-0.494043</td> <td>-1.04155  </td> <td>-0.920763</td>\n",
              "        </tr>\n",
              "        <tr>\n",
              "            <td>0.504055   </td> <td>-1.50469         </td> <td>0.90727          </td> <td>0.765836   </td> <td>1.40975  </td> <td>-0.0204964</td> <td>5.48491  </td>\n",
              "        </tr>\n",
              "        <tr>\n",
              "            <td>-0.153185  </td> <td>0.253036         </td> <td>-1.28821         </td> <td>-0.692891  </td> <td>-0.811341</td> <td>-0.27576  </td> <td>-0.818079</td>\n",
              "        </tr>\n",
              "        <tr>\n",
              "            <td>-1.34248   </td> <td>-0.98771         </td> <td>0.719086         </td> <td>0.0712043  </td> <td>-0.125977</td> <td>-0.616111 </td> <td>-0.676133</td>\n",
              "        </tr>\n",
              "        <tr>\n",
              "            <td>-0.184482  </td> <td>-3.5726          </td> <td>-1.28821         </td> <td>-0.692891  </td> <td>0.419775 </td> <td>-0.360847 </td> <td>-1.02043 </td>\n",
              "        </tr>\n",
              "        <tr>\n",
              "            <td>2.38188    </td> <td>0.0462453        </td> <td>1.53455          </td> <td>4.02192    </td> <td>-0.189437</td> <td>1.68126   </td> <td>-0.947944</td>\n",
              "        </tr>\n",
              "        <tr>\n",
              "            <td>0.128489   </td> <td>1.39039          </td> <td>-1.28821         </td> <td>-0.692891  </td> <td>-4.06047 </td> <td>1.76635   </td> <td>-0.724455</td>\n",
              "        </tr>\n",
              "    </tbody>\n",
              "</table>\n",
              "<p>... (758 rows omitted)</p>"
            ]
          },
          "metadata": {},
          "execution_count": 64
        }
      ]
    },
    {
      "cell_type": "markdown",
      "source": [
        "Pregnancies = diabetes.column(\"Pregnancies\")\n",
        "Pregnancies_std = (Pregnancies-np.mean(Pregnancies))/np.std(Pregnancies)"
      ],
      "metadata": {
        "id": "P16DJC_QAfhw"
      }
    },
    {
      "cell_type": "code",
      "source": [
        "X = std_table.select(\n",
        "                                 \"Glucose_std\",\n",
        "                                 \"BloodPressure_std\",\n",
        "                                 \"SkinThickness_std\",\n",
        "                                 \"Insulin_std\",\n",
        "                                 \"BMI_std\",\n",
        "                                 \"Age_std\",\n",
        "                                 \"PD_std\").values\n",
        "y = diabetes.column(\"Outcome\")\n",
        "\n",
        "\n",
        "X_train, X_test, y_train, y_test, = train_test_split(X, y, train_size=0.8)"
      ],
      "metadata": {
        "id": "z22JY3X73H1a"
      },
      "execution_count": 65,
      "outputs": []
    },
    {
      "cell_type": "code",
      "source": [
        "neural_network = MLPClassifier()\n",
        "neural_network.fit(X_train, y_train)\n",
        "y_pred = neural_network.predict(X_test)\n",
        "accuracy = sum(y_test == y_pred) / len(y_pred)\n",
        "print(\"Accuracy:\", accuracy)"
      ],
      "metadata": {
        "colab": {
          "base_uri": "https://localhost:8080/"
        },
        "id": "GsdENVK7550c",
        "outputId": "66ff8ff6-f6b1-49eb-c14f-8fc6ce6102c4"
      },
      "execution_count": 66,
      "outputs": [
        {
          "output_type": "stream",
          "name": "stdout",
          "text": [
            "Accuracy: 0.779220779221\n"
          ]
        },
        {
          "output_type": "stream",
          "name": "stderr",
          "text": [
            "/usr/local/lib/python3.8/dist-packages/sklearn/neural_network/_multilayer_perceptron.py:692: ConvergenceWarning: Stochastic Optimizer: Maximum iterations (200) reached and the optimization hasn't converged yet.\n",
            "  warnings.warn(\n"
          ]
        }
      ]
    },
    {
      "cell_type": "code",
      "source": [
        "knn_model = KNeighborsClassifier()\n",
        "knn_model.fit(X_train, y_train)\n",
        "y_pred = knn_model.predict(X_test)\n",
        "accuracy = sum(y_test == y_pred) / len(y_pred)\n",
        "print(\"Accuracy:\", accuracy)"
      ],
      "metadata": {
        "colab": {
          "base_uri": "https://localhost:8080/"
        },
        "id": "X_87U72h6Mrq",
        "outputId": "4bf4f942-e500-453c-eadf-61ac14c5362e"
      },
      "execution_count": 67,
      "outputs": [
        {
          "output_type": "stream",
          "name": "stdout",
          "text": [
            "Accuracy: 0.74025974026\n"
          ]
        }
      ]
    },
    {
      "cell_type": "code",
      "source": [
        "xgboost_model = XGBClassifier()\n",
        "xgboost_model.fit(X_train, y_train)\n",
        "y_pred = xgboost_model.predict(X_test)\n",
        "accuracy = sum(y_test == y_pred) / len(y_pred)\n",
        "print(\"Accuracy:\", accuracy)"
      ],
      "metadata": {
        "colab": {
          "base_uri": "https://localhost:8080/"
        },
        "id": "9O0lqeE-6QCg",
        "outputId": "d8b4edb2-69d6-4aff-a28f-284ce658b9c7"
      },
      "execution_count": 68,
      "outputs": [
        {
          "output_type": "stream",
          "name": "stdout",
          "text": [
            "Accuracy: 0.785714285714\n"
          ]
        }
      ]
    },
    {
      "cell_type": "markdown",
      "source": [
        "In conclusion we see that all of these models range between 74% to 80% accuracy and that tells us that these features are accurate in predicting diabetes but not as accurate as we would hope for them to be. The conclusion of this test is that more parameters that are associated with Diabetes need to be accounted for to have a more accurate prediction. That being said, the purpose of this project was to determine if I was at risk of being diabetic. I cannot pass a conclusion on that because these models are not accurate enough. The goal was to create a model where I could put all of these parameters with my own measurement and determine how much risk I had of being diabetic but I need to find more features so that I can make a more accurate prediction"
      ],
      "metadata": {
        "id": "NPDaQSWs6Zs2"
      }
    },
    {
      "cell_type": "markdown",
      "source": [
        "DataSet\n",
        "\n",
        "\n",
        "iabetes.csv from Kaggle by \n",
        "Akshay Dattatray Khare (Owner)\n",
        "\n",
        "Smith, J.W., Everhart, J.E., Dickson, W.C., Knowler, W.C., & Johannes, R.S. (1988). Using the ADAP learning algorithm to forecast the onset of diabetes mellitus. In Proceedings of the Symposium on Computer Applications and Medical Care (pp. 261--265). IEEE Computer Society Press.\n",
        "\n",
        "CC0: Public Domain\n",
        "\n",
        "Authors\n",
        "keyboard_arrow_up\n",
        "AUTHOR NAME\n",
        "Pima Indians\n",
        "BIO\n",
        "UCI MACHINE LEARNING\n",
        "Coverage\n",
        "keyboard_arrow_up\n",
        "TEMPORAL COVERAGE START DATE\n",
        "08/04/2016\n",
        "TEMPORAL COVERAGE END DATE\n",
        "08/04/2022\n",
        "GEOSPATIAL COVERAGE\n",
        "Pima Indians"
      ],
      "metadata": {
        "id": "Fedu_F1dBFVj"
      }
    }
  ]
}